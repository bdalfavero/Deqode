{
 "cells": [
  {
   "cell_type": "code",
   "execution_count": 53,
   "id": "7c254645",
   "metadata": {},
   "outputs": [],
   "source": [
    "from typing import List, Tuple\n",
    "import random\n",
    "import numpy as np\n",
    "import stim"
   ]
  },
  {
   "cell_type": "markdown",
   "id": "1847be26",
   "metadata": {},
   "source": [
    "## Generating errors\n",
    "\n",
    "Here we'll generate errors using the uniform depolarizing channel:\n",
    "$D[\\rho] = (1-\\lambda) \\rho + \\frac{\\lambda}{3} (X \\rho X + Y \\rho Y + Z \\rho Z)$,\n",
    "where $0 \\leq \\lambda \\leq 1$."
   ]
  },
  {
   "cell_type": "code",
   "execution_count": 32,
   "id": "622fd469",
   "metadata": {},
   "outputs": [],
   "source": [
    "# We will represent Pauli strings initially as a list of n integers where n_i in {0, 1, 2, 3}\n",
    "# 0 -> I\n",
    "# 1 -> X\n",
    "# 2 -> Y\n",
    "# 3 -> Z\n",
    "# e.g. XIYZ = [1, 0, 2, 3]\n",
    "\n",
    "random.seed(123)\n",
    "\n",
    "def random_depolarizing_error(nqubits: int, lamb: float) -> List[int]:\n",
    "    \"\"\"Generate a random error depolarizing error on n qubits.\"\"\"\n",
    "\n",
    "    pauli = [0] * nqubits\n",
    "    for i in range(len(pauli)):\n",
    "        r = random.random()\n",
    "        if r <= lamb:\n",
    "            # Identity\n",
    "            pauli[i] = 0\n",
    "        else:\n",
    "            # Generate an X, Y, or Z error with equal probabilities.\n",
    "            r2 = random.random()\n",
    "            if r2 <= 1. / 3.:\n",
    "                # X error\n",
    "                pauli[i] = 1\n",
    "            elif r2 >= 1. / 3. and r2 <= 2. / 3.:\n",
    "                # Y error\n",
    "                pauli[i] = 2\n",
    "            else:\n",
    "                # Z error\n",
    "                pauli[i] = 3\n",
    "    return pauli"
   ]
  },
  {
   "cell_type": "code",
   "execution_count": 41,
   "id": "c830983a",
   "metadata": {},
   "outputs": [
    {
     "name": "stdout",
     "output_type": "stream",
     "text": [
      "[2, 1, 0]\n"
     ]
    }
   ],
   "source": [
    "pauli = random_depolarizing_error(3, 0.5)\n",
    "print(pauli)"
   ]
  },
  {
   "cell_type": "code",
   "execution_count": 69,
   "id": "941fb5ef",
   "metadata": {},
   "outputs": [],
   "source": [
    "# Next convert to binary symplectic form.\n",
    "\n",
    "def pauli_to_binary_symplectic(pauli: List[int]) -> np.ndarray:\n",
    "    \"\"\"Convert a Pauli string represented by integers to its binary form.\"\"\"\n",
    "\n",
    "    bin_pauli = [False] * (2 * len(pauli))\n",
    "    for i, p in enumerate(pauli):\n",
    "        assert p in set([0, 1, 2, 3]), f\"Pauli {p} at index {i} is is invalid (should be in 0,1,2,3)\"\n",
    "        if p == 1 or p == 2:\n",
    "            bin_pauli[i] = True\n",
    "        if p == 2 or p == 3:\n",
    "            bin_pauli[i + len(pauli)] = True\n",
    "    return np.array(bin_pauli)\n",
    "\n",
    "\n",
    "def binary_symplectic_to_pauli(bin_pauli: np.ndarray) -> List[int]:\n",
    "    \"\"\"Convert the binary-symplectic form to a list of integers.\"\"\"\n",
    "\n",
    "    assert bin_pauli.size % 2 == 0\n",
    "    nq = bin_pauli.size // 2\n",
    "    x_bits = bin_pauli[:nq]\n",
    "    z_bits = bin_pauli[nq:]\n",
    "    pauli = [0] * nq\n",
    "    for i, (xbit, zbit) in enumerate(zip(x_bits, z_bits)):\n",
    "        if xbit and not zbit:\n",
    "            pauli[i] = 1\n",
    "        elif xbit and zbit:\n",
    "            pauli[i] = 2\n",
    "        elif not xbit and zbit:\n",
    "            pauli[i] = 3\n",
    "        else:\n",
    "            pauli[i] = 0\n",
    "    return pauli"
   ]
  },
  {
   "cell_type": "code",
   "execution_count": 50,
   "id": "095d7c57",
   "metadata": {},
   "outputs": [
    {
     "data": {
      "text/plain": [
       "array([False,  True, False,  True, False, False,  True,  True])"
      ]
     },
     "execution_count": 50,
     "metadata": {},
     "output_type": "execute_result"
    }
   ],
   "source": [
    "pauli_to_binary_symplectic([0, 1, 3, 2])"
   ]
  },
  {
   "cell_type": "markdown",
   "id": "0a487e03",
   "metadata": {},
   "source": [
    "## Majority rules decoding for Shor's nine-qubit code"
   ]
  },
  {
   "cell_type": "markdown",
   "id": "aa1accb3",
   "metadata": {},
   "source": [
    "## Lookup table decoder for the Steane code\n",
    "\n",
    "See https://pennylane.ai/qml/demos/tutorial_bp_catalyst"
   ]
  },
  {
   "cell_type": "code",
   "execution_count": 52,
   "id": "5fca0a05",
   "metadata": {},
   "outputs": [],
   "source": [
    "# A CSS code has two check matrices: one for X errors and another for Z errors.\n",
    "\n",
    "H_x = np.array(\n",
    "    [\n",
    "        [False, False, False, True, True, True, True],\n",
    "        [False, True, True, False, False, True, True],\n",
    "        [True, False, True, False, True, False, True]\n",
    "    ]\n",
    ")\n",
    "H_z = H_x.copy()"
   ]
  },
  {
   "cell_type": "code",
   "execution_count": 54,
   "id": "ba75ae7e",
   "metadata": {},
   "outputs": [],
   "source": [
    "def error_to_steane_syndrome(err: np.ndarray) -> np.ndarray:\n",
    "    \"\"\"Convert a (binary-symmetric) error on 7 qubits to its Steane syndrome.\"\"\"\n",
    "\n",
    "    assert err.size == 14\n",
    "    x_err = err[:7]\n",
    "    z_err = err[7:]\n",
    "    x_syndrome = H_x @ x_err\n",
    "    z_syndrome = H_z @ z_err\n",
    "    return np.concat([x_syndrome, z_syndrome], axis=0)"
   ]
  },
  {
   "cell_type": "code",
   "execution_count": 66,
   "id": "dc5b5c5a",
   "metadata": {},
   "outputs": [
    {
     "name": "stdout",
     "output_type": "stream",
     "text": [
      "[ True False False  True False False]\n"
     ]
    }
   ],
   "source": [
    "err = pauli_to_binary_symplectic([0, 0, 0, 2, 0, 0, 0])\n",
    "syndrome = error_to_steane_syndrome(err)\n",
    "print(syndrome)"
   ]
  },
  {
   "cell_type": "code",
   "execution_count": 77,
   "id": "e418689d",
   "metadata": {},
   "outputs": [
    {
     "name": "stdout",
     "output_type": "stream",
     "text": [
      "[1, 0, 0, 0, 0, 0, 0] [False False  True False False False]\n",
      "[2, 0, 0, 0, 0, 0, 0] [False False  True False False  True]\n",
      "[3, 0, 0, 0, 0, 0, 0] [False False False False False  True]\n",
      "[0, 1, 0, 0, 0, 0, 0] [False  True False False False False]\n",
      "[0, 2, 0, 0, 0, 0, 0] [False  True False False  True False]\n",
      "[0, 3, 0, 0, 0, 0, 0] [False False False False  True False]\n",
      "[0, 0, 1, 0, 0, 0, 0] [False  True  True False False False]\n",
      "[0, 0, 2, 0, 0, 0, 0] [False  True  True False  True  True]\n",
      "[0, 0, 3, 0, 0, 0, 0] [False False False False  True  True]\n",
      "[0, 0, 0, 1, 0, 0, 0] [ True False False False False False]\n",
      "[0, 0, 0, 2, 0, 0, 0] [ True False False  True False False]\n",
      "[0, 0, 0, 3, 0, 0, 0] [False False False  True False False]\n",
      "[0, 0, 0, 0, 1, 0, 0] [ True False  True False False False]\n",
      "[0, 0, 0, 0, 2, 0, 0] [ True False  True  True False  True]\n",
      "[0, 0, 0, 0, 3, 0, 0] [False False False  True False  True]\n",
      "[0, 0, 0, 0, 0, 1, 0] [ True  True False False False False]\n",
      "[0, 0, 0, 0, 0, 2, 0] [ True  True False  True  True False]\n",
      "[0, 0, 0, 0, 0, 3, 0] [False False False  True  True False]\n",
      "[0, 0, 0, 0, 0, 0, 1] [ True  True  True False False False]\n",
      "[0, 0, 0, 0, 0, 0, 2] [ True  True  True  True  True  True]\n",
      "[0, 0, 0, 0, 0, 0, 3] [False False False  True  True  True]\n"
     ]
    }
   ],
   "source": [
    "# Here students will notice the pattern of syndromes for all single-qubit errors.\n",
    "\n",
    "for i in range(7):\n",
    "    for p in [1, 2, 3]:\n",
    "        err_pauli = [0] * 7\n",
    "        err_pauli[i] = p\n",
    "        err_binary = pauli_to_binary_symplectic(err_pauli)\n",
    "        syndrome = error_to_steane_syndrome(err_binary)\n",
    "        print(err_pauli, syndrome)"
   ]
  },
  {
   "cell_type": "code",
   "execution_count": 74,
   "id": "bd19a079",
   "metadata": {},
   "outputs": [],
   "source": [
    "# Ideally, students should derive this themselves!\n",
    "# Possibly this can be done by just looking at the syndromes for each single-qubit error,\n",
    "# and noticing that they make all the octal digits.\n",
    "\n",
    "def steane_lookup_decoder(syndrome: np.ndarray) -> np.ndarray:\n",
    "    \"\"\"Maps Steane syndromes onto their minimum-weight corrections.\"\"\"\n",
    "\n",
    "    def decode_x_or_z(syndrome):\n",
    "        if np.all(syndrome == np.array([False, False, False])):\n",
    "            return np.array([False, False, False, False, False, False, False])\n",
    "        elif np.all(syndrome == np.array([False, False, True])):\n",
    "            return np.array([True, False, False, False, False, False, False])\n",
    "        elif np.all(syndrome == np.array([False, True, False])):\n",
    "            return np.array([False, True, False, False, False, False, False])\n",
    "        elif np.all(syndrome == np.array([False, True, True])):\n",
    "            return np.array([False, False, True, False, False, False, False])\n",
    "        elif np.all(syndrome == np.array([True, False, False])):\n",
    "            return np.array([False, False, False, True, False, False, False])\n",
    "        elif np.all(syndrome == np.array([True, False, True])):\n",
    "            return np.array([False, False, False, False, True, False, False])\n",
    "        elif np.all(syndrome == np.array([True, True, False])):\n",
    "            return np.array([False, False, False, False, False, True, False])\n",
    "        elif np.all(syndrome == np.array([True, True, True])):\n",
    "            return np.array([False, False, False, False, False, False, True])\n",
    "        else:\n",
    "            raise ValueError(f\"Syndrome {syndrome} not valid.\")\n",
    "\n",
    "    assert syndrome.size == 6\n",
    "    x_syndrome = syndrome[:3]\n",
    "    z_syndrome = syndrome[3:]\n",
    "    x_correction = decode_x_or_z(x_syndrome)\n",
    "    z_correction = decode_x_or_z(z_syndrome)\n",
    "    return np.concatenate([x_correction, z_correction], axis=0)"
   ]
  },
  {
   "cell_type": "code",
   "execution_count": 75,
   "id": "a01f6ccf",
   "metadata": {},
   "outputs": [
    {
     "name": "stdout",
     "output_type": "stream",
     "text": [
      "[0, 0, 0, 0, 0, 0, 1]\n"
     ]
    }
   ],
   "source": [
    "correction = steane_lookup_decoder(syndrome)\n",
    "print(binary_symplectic_to_pauli(correction))"
   ]
  },
  {
   "cell_type": "code",
   "execution_count": 76,
   "id": "e7f953b7",
   "metadata": {},
   "outputs": [],
   "source": [
    "# Our decoder should map single-qubit errors back to themselves.\n",
    "for i in range(7):\n",
    "    for p in [1, 2, 3]:\n",
    "        err_pauli = [0] * 7\n",
    "        err_pauli[i] = p\n",
    "        err_binary = pauli_to_binary_symplectic(err_pauli)\n",
    "        syndrome = error_to_steane_syndrome(err_binary)\n",
    "        correction_binary = steane_lookup_decoder(syndrome)\n",
    "        correction_pauli = binary_symplectic_to_pauli(correction_binary)\n",
    "        assert correction_pauli == err_pauli"
   ]
  },
  {
   "cell_type": "code",
   "execution_count": 80,
   "id": "069569db",
   "metadata": {},
   "outputs": [
    {
     "name": "stdout",
     "output_type": "stream",
     "text": [
      "[1, 0, 0, 1, 0, 0, 0] [ True False  True False False False] [0, 0, 0, 0, 1, 0, 0]\n",
      "[ True False False  True  True False False False False False False False\n",
      " False False]\n"
     ]
    }
   ],
   "source": [
    "# The Steane code can't fix two-qubit errors.\n",
    "err_pauli = [1, 0, 0, 1, 0, 0, 0]\n",
    "err_binary = pauli_to_binary_symplectic(err_pauli)\n",
    "syndrome = error_to_steane_syndrome(err_binary)\n",
    "correction_binary = steane_lookup_decoder(syndrome)\n",
    "correction_pauli = binary_symplectic_to_pauli(correction_binary)\n",
    "print(err_pauli, syndrome, correction_pauli)\n",
    "print(err_binary ^ correction_binary)"
   ]
  },
  {
   "cell_type": "code",
   "execution_count": null,
   "id": "09881e10",
   "metadata": {},
   "outputs": [],
   "source": []
  }
 ],
 "metadata": {
  "kernelspec": {
   "display_name": "deqode",
   "language": "python",
   "name": "deqode"
  },
  "language_info": {
   "codemirror_mode": {
    "name": "ipython",
    "version": 3
   },
   "file_extension": ".py",
   "mimetype": "text/x-python",
   "name": "python",
   "nbconvert_exporter": "python",
   "pygments_lexer": "ipython3",
   "version": "3.12.11"
  }
 },
 "nbformat": 4,
 "nbformat_minor": 5
}
