{
 "cells": [
  {
   "cell_type": "code",
   "execution_count": 394,
   "id": "7a6851fe",
   "metadata": {},
   "outputs": [],
   "source": [
    "from typing import List\n",
    "import re\n",
    "from math import log\n",
    "import numpy as np\n",
    "import matplotlib.pyplot as plt\n",
    "import networkx as nx"
   ]
  },
  {
   "cell_type": "code",
   "execution_count": 395,
   "id": "18518802",
   "metadata": {},
   "outputs": [],
   "source": [
    "def matching_graph(d: int, probabilities: List[float]) -> nx.Graph:\n",
    "    \"\"\"Get the matching graph for the repetition code.\n",
    "    \n",
    "    Arguments:\n",
    "    d - Distance of the code. Should be odd.\n",
    "    probabilities - A list of bit-flip probablities.\n",
    "    \n",
    "    Returns:\n",
    "    M - The matching graph for this code and error model.\"\"\"\n",
    "\n",
    "    assert d >= 3, f\"Distance must be >= 3, but got {d}.\"\n",
    "    assert d % 2 != 0, f\"Distance d must be odd, but got {d}.\"\n",
    "\n",
    "    matching_graph = nx.Graph()\n",
    "    # First add the \"extra nodes\" for the leftmost and rightmost qubits.\n",
    "    matching_graph.add_node(\"r1\")\n",
    "    matching_graph.add_node(\"r2\")\n",
    "    # Then add the regular syndromes\n",
    "    for i in range(d - 1):\n",
    "        matching_graph.add_node(f\"s{i}\")\n",
    "    # Add an edge of weight w = log((1-p_i)/p_i) for each qubit.\n",
    "    for i in range(d):\n",
    "        w = log((1. - probabilities[i]) / probabilities[i])\n",
    "        if i == 0:\n",
    "            matching_graph.add_edge(\"r1\", \"s0\", weight=w, label=\"q0\")\n",
    "        elif i == d - 1:\n",
    "            matching_graph.add_edge(\"r2\", f\"s{i-1}\", weight=w, label=f\"q{i}\")\n",
    "        else:\n",
    "            matching_graph.add_edge(f\"s{i-1}\", f\"s{i}\", weight=w, label=f\"q{i}\")\n",
    "    return matching_graph"
   ]
  },
  {
   "cell_type": "code",
   "execution_count": 396,
   "id": "0a963dc8",
   "metadata": {},
   "outputs": [],
   "source": [
    "def error_to_syndrome(err: np.ndarray) -> np.ndarray:\n",
    "    \"\"\"Convert a list of bit-flips into a the repetition code syndrome.\"\"\"\n",
    "\n",
    "    d = err.size\n",
    "    check = np.zeros((d-1, d), dtype=bool)\n",
    "    for i in range(d - 1):\n",
    "        check[i, i] = True\n",
    "        check[i, i + 1] = True\n",
    "    return ((check.astype(int) @ err.astype(int)) % 2).astype(bool)"
   ]
  },
  {
   "cell_type": "code",
   "execution_count": 397,
   "id": "6f6f5433",
   "metadata": {},
   "outputs": [],
   "source": [
    "def syndrome_graph(matching: nx.Graph, syndrome: np.ndarray) -> nx.Graph:\n",
    "    \"\"\"Gets the syndrome graph for a binary syndrome vector given the\n",
    "    matching graph.\"\"\"\n",
    "\n",
    "    d = len(matching.nodes()) - 1\n",
    "    assert syndrome.size == d - 1\n",
    "\n",
    "    syndrome_nodes: List[str] = []\n",
    "    # Build a graph with a node for each 1 in the syndrome.\n",
    "    # The weight between two nodes will be the distance on the matching graph.\n",
    "    syndrome_gr = nx.Graph()\n",
    "    for i, b in enumerate(syndrome):\n",
    "        if b:\n",
    "            syndrome_gr.add_node(f\"s{i}\")\n",
    "    # If there is an odd number of ones in the syndrome,\n",
    "    # we need to add in one of our \"dummy\" nodes because there is a flip\n",
    "    # on the leftmost or rightmost bit.\n",
    "    # Find the lowest index i such that syndrome[i] = 1.\n",
    "    # If i <= d / 2, then add the left dummy.\n",
    "    # If i >= d / 2, then add the right dummy.\n",
    "    if len(syndrome_gr.nodes()) % 2 != 0:\n",
    "        for first_i, b in enumerate(syndrome):\n",
    "            if b:\n",
    "                break\n",
    "        if first_i < len(syndrome) // 2:\n",
    "            syndrome_gr.add_node(\"r1\")\n",
    "        else:\n",
    "            syndrome_gr.add_node(\"r2\")\n",
    "    assert set(syndrome_gr.nodes()).issubset(matching.nodes())\n",
    "    for sn1 in syndrome_gr.nodes():\n",
    "        for sn2 in syndrome_gr.nodes():\n",
    "            if sn1 != sn2:\n",
    "                length = nx.shortest_path_length(matching, sn1, sn2, weight='weight')\n",
    "                syndrome_gr.add_edge(sn1, sn2, weight=length)\n",
    "    return syndrome_gr"
   ]
  },
  {
   "cell_type": "code",
   "execution_count": 398,
   "id": "028ecfd2",
   "metadata": {},
   "outputs": [],
   "source": [
    "def repetition_tanner_graph(d: int) -> nx.Graph:\n",
    "    \"\"\"Get the Tanner graph for a repetition code.\"\"\"\n",
    "\n",
    "    assert d % 2 != 0\n",
    "    assert d >= 3\n",
    "\n",
    "    tanner_graph = nx.Graph()\n",
    "    for i in range(d):\n",
    "        tanner_graph.add_node(f\"q{i}\")\n",
    "        if i == 0:\n",
    "            tanner_graph.add_node(f\"r1\")\n",
    "            tanner_graph.add_node(f\"s0\")\n",
    "            tanner_graph.add_edge(\"q0\", \"r1\")\n",
    "            tanner_graph.add_edge(\"q0\", \"s0\")\n",
    "        elif i == d - 1:\n",
    "            tanner_graph.add_node(\"r2\")\n",
    "            tanner_graph.add_edge(f\"q{i}\", \"r2\")\n",
    "            tanner_graph.add_edge(f\"q{i}\", f\"s{i - 1}\")\n",
    "        else:\n",
    "            tanner_graph.add_node(f\"s{i}\")\n",
    "            tanner_graph.add_edge(f\"q{i}\", f\"s{i - 1}\")\n",
    "            tanner_graph.add_edge(f\"q{i}\", f\"s{i}\")\n",
    "    return tanner_graph"
   ]
  },
  {
   "cell_type": "code",
   "execution_count": 399,
   "id": "31309c95",
   "metadata": {},
   "outputs": [],
   "source": [
    "def matching_to_correction(matching, matching_gr, tanner_graph) -> np.ndarray:\n",
    "    \"\"\"Convert the minimum-weight matching to a binary correction.\"\"\"\n",
    "\n",
    "    def qubit_for_syndrome_pair(s1, s2):\n",
    "        s1_neighbors = set(tanner_graph.neighbors(s1))\n",
    "        s2_neighbors = set(tanner_graph.neighbors(s2))\n",
    "        shared_nodes = s1_neighbors & s2_neighbors\n",
    "        assert len(shared_nodes) == 1, f\"{s1_neighbors} {s2_neighbors}\"\n",
    "        q_name = list(shared_nodes)[0]\n",
    "        idx = int(re.search(r'\\d+', q_name).group()) \n",
    "        return idx\n",
    "\n",
    "    # Count qubits in the Tanner graph.\n",
    "    nq = 0\n",
    "    for node in tanner_graph.nodes():\n",
    "        if 'q' in node:\n",
    "            nq += 1\n",
    "\n",
    "    correction = [False] * nq\n",
    "    for n1, n2 in matching:\n",
    "        # Get a path from n1 to n2 on the matching graph.\n",
    "        # Each edge on the path will give us a qubit.\n",
    "        path = nx.shortest_path(matching_gr, n1, n2)\n",
    "        for i in range(len(path) - 1):\n",
    "            s1 = path[i]\n",
    "            s2 = path[i+1]\n",
    "            idx = qubit_for_syndrome_pair(s1, s2)\n",
    "            correction[idx] = True\n",
    "    return np.array(correction)"
   ]
  },
  {
   "cell_type": "code",
   "execution_count": 400,
   "id": "669a296c",
   "metadata": {},
   "outputs": [
    {
     "name": "stdout",
     "output_type": "stream",
     "text": [
      "syndrome = [False  True False  True]\n",
      "syndrome graph nodes: ['s1', 's3']\n",
      "matching = {('s3', 's1')}\n",
      "correction = [False False  True  True False]\n",
      "[False False False False False]\n"
     ]
    }
   ],
   "source": [
    "d = 5\n",
    "probs = [0.1] * d\n",
    "err = np.array([False, False, True, True, False])\n",
    "syndrome = error_to_syndrome(err)\n",
    "print(f\"syndrome = {syndrome}\")\n",
    "\n",
    "tanner_graph = repetition_tanner_graph(d)\n",
    "matching_gr = matching_graph(d, probs)\n",
    "syndrome_gr = syndrome_graph(matching_gr, syndrome)\n",
    "print(f\"syndrome graph nodes: {syndrome_gr.nodes()}\")\n",
    "matching = nx.min_weight_matching(syndrome_gr)\n",
    "print(\"matching =\", matching)\n",
    "correction = matching_to_correction(matching, matching_gr, tanner_graph)\n",
    "print(f\"correction = {correction}\")\n",
    "print(correction ^ err)"
   ]
  },
  {
   "cell_type": "code",
   "execution_count": 401,
   "id": "df379165",
   "metadata": {},
   "outputs": [
    {
     "data": {
      "text/plain": [
       "{'q0': Text(0.2830134455670767, 0.8354796435383723, 'q0'),\n",
       " 'r1': Text(0.2656421750187207, 1.0, 'r1'),\n",
       " 's0': Text(0.25814848200797785, 0.6340416027264004, 's0'),\n",
       " 'q1': Text(0.19963404982590177, 0.4193609430467272, 'q1'),\n",
       " 's1': Text(0.10897580891887441, 0.20756125938590997, 's1'),\n",
       " 'q2': Text(0.002154236762770371, -0.0030040829010296757, 'q2'),\n",
       " 's2': Text(-0.10421997714853887, -0.21131513689884143, 's2'),\n",
       " 'q3': Text(-0.19948230742862902, -0.42040027473982244, 'q3'),\n",
       " 's3': Text(-0.263402678926793, -0.6317573456590307, 's3'),\n",
       " 'q4': Text(-0.2873899326916682, -0.8332678516146815, 'q4'),\n",
       " 'r2': Text(-0.2630733019056929, -0.9966987568840049, 'r2')}"
      ]
     },
     "execution_count": 401,
     "metadata": {},
     "output_type": "execute_result"
    },
    {
     "data": {
      "image/png": "[encoded data removed]",
      "text/plain": [
       "<Figure size 640x480 with 1 Axes>"
      ]
     },
     "metadata": {},
     "output_type": "display_data"
    }
   ],
   "source": [
    "plt.figure()\n",
    "pos = nx.spring_layout(tanner_graph)\n",
    "nx.draw_networkx_nodes(tanner_graph, pos)\n",
    "nx.draw_networkx_edges(tanner_graph, pos)\n",
    "nx.draw_networkx_labels(tanner_graph, pos)"
   ]
  },
  {
   "cell_type": "code",
   "execution_count": 402,
   "id": "f575fdfd",
   "metadata": {},
   "outputs": [
    {
     "data": {
      "text/plain": [
       "{'r1': Text(0.9999999999999999, -0.8147153942724903, 'r1'),\n",
       " 'r2': Text(-0.9914660981448148, 0.8250276448331652, 'r2'),\n",
       " 's0': Text(0.6320711655965248, -0.5213855214970664, 's0'),\n",
       " 's1': Text(0.21316663189121696, -0.1831674624834922, 's1'),\n",
       " 's2': Text(-0.2207216847372478, 0.1740343200825714, 's2'),\n",
       " 's3': Text(-0.6330500146056789, 0.5202064133373124, 's3')}"
      ]
     },
     "execution_count": 402,
     "metadata": {},
     "output_type": "execute_result"
    },
    {
     "data": {
      "image/png": "[encoded data removed]",
      "text/plain": [
       "<Figure size 640x480 with 1 Axes>"
      ]
     },
     "metadata": {},
     "output_type": "display_data"
    }
   ],
   "source": [
    "plt.figure()\n",
    "pos = nx.spring_layout(matching_gr)\n",
    "nx.draw_networkx_nodes(matching_gr, pos)\n",
    "nx.draw_networkx_edges(matching_gr, pos)\n",
    "nx.draw_networkx_labels(matching_gr, pos)"
   ]
  },
  {
   "cell_type": "code",
   "execution_count": 403,
   "id": "e730f11f",
   "metadata": {},
   "outputs": [
    {
     "data": {
      "text/plain": [
       "{'s1': Text(-0.9999999999999999, 0.5561685267153866, 's1'),\n",
       " 's3': Text(0.9999999999999997, -0.5561685267153866, 's3')}"
      ]
     },
     "execution_count": 403,
     "metadata": {},
     "output_type": "execute_result"
    },
    {
     "data": {
      "image/png": "[encoded data removed]",
      "text/plain": [
       "<Figure size 640x480 with 1 Axes>"
      ]
     },
     "metadata": {},
     "output_type": "display_data"
    }
   ],
   "source": [
    "plt.figure()\n",
    "pos = nx.spring_layout(syndrome_gr)\n",
    "nx.draw_networkx_nodes(syndrome_gr, pos)\n",
    "nx.draw_networkx_edges(syndrome_gr, pos)\n",
    "nx.draw_networkx_labels(syndrome_gr, pos)"
   ]
  },
  {
   "cell_type": "code",
   "execution_count": 404,
   "id": "635d5a3e",
   "metadata": {},
   "outputs": [],
   "source": [
    "def syndrome_to_correction(syndrome: np.ndarray, probabilities: np.ndarray) -> np.ndarray:\n",
    "    \"\"\"Map a syndrome to a correction given an error model.\"\"\"\n",
    "\n",
    "    d = len(syndrome) + 1\n",
    "    tanner_gr = repetition_tanner_graph(d)\n",
    "    matching_gr = matching_graph(d, probabilities)\n",
    "    syndrome_gr = syndrome_graph(matching_gr, syndrome)\n",
    "    print(\"syndrome graph nodes:\", syndrome_gr.nodes())\n",
    "    matching = nx.min_weight_matching(syndrome_gr)\n",
    "    correction = matching_to_correction(matching, matching_gr, tanner_gr)\n",
    "    return correction"
   ]
  },
  {
   "cell_type": "code",
   "execution_count": 406,
   "id": "f14bb191",
   "metadata": {},
   "outputs": [
    {
     "name": "stdout",
     "output_type": "stream",
     "text": [
      "syndrome = [False False  True False]\n",
      "syndrome graph nodes: ['s2', 'r2']\n",
      "correction = [False False False  True  True]\n",
      "logical error = [ True  True  True  True  True]\n"
     ]
    }
   ],
   "source": [
    "d = 5\n",
    "probs = [0.1] * d\n",
    "err = np.array([True, True, True, False, False])\n",
    "syndrome = error_to_syndrome(err)\n",
    "print(\"syndrome =\", syndrome)\n",
    "correction = syndrome_to_correction(syndrome, probs)\n",
    "print(\"correction =\", correction)\n",
    "print(\"logical error =\", correction ^ err)"
   ]
  },
  {
   "cell_type": "code",
   "execution_count": null,
   "id": "0d880849",
   "metadata": {},
   "outputs": [],
   "source": []
  }
 ],
 "metadata": {
  "kernelspec": {
   "display_name": "deqode",
   "language": "python",
   "name": "deqode"
  },
  "language_info": {
   "codemirror_mode": {
    "name": "ipython",
    "version": 3
   },
   "file_extension": ".py",
   "mimetype": "text/x-python",
   "name": "python",
   "nbconvert_exporter": "python",
   "pygments_lexer": "ipython3",
   "version": "3.12.11"
  }
 },
 "nbformat": 4,
 "nbformat_minor": 5
}
