{
 "cells": [
  {
   "cell_type": "code",
   "execution_count": 42,
   "id": "7a6851fe",
   "metadata": {},
   "outputs": [],
   "source": [
    "from typing import List\n",
    "import re\n",
    "from math import log\n",
    "import numpy as np\n",
    "import matplotlib.pyplot as plt\n",
    "import networkx as nx\n",
    "import stim\n",
    "import pymatching"
   ]
  },
  {
   "cell_type": "code",
   "execution_count": 43,
   "id": "18518802",
   "metadata": {},
   "outputs": [],
   "source": [
    "def matching_graph(d: int, probabilities: List[float]) -> nx.Graph:\n",
    "    \"\"\"Get the matching graph for the repetition code.\n",
    "    \n",
    "    Arguments:\n",
    "    d - Distance of the code. Should be odd.\n",
    "    probabilities - A list of bit-flip probablities.\n",
    "    \n",
    "    Returns:\n",
    "    M - The matching graph for this code and error model.\"\"\"\n",
    "\n",
    "    assert d >= 3, f\"Distance must be >= 3, but got {d}.\"\n",
    "    assert d % 2 != 0, f\"Distance d must be odd, but got {d}.\"\n",
    "\n",
    "    matching_graph = nx.Graph()\n",
    "    # First add the \"extra nodes\" for the leftmost and rightmost qubits.\n",
    "    matching_graph.add_node(\"r1\")\n",
    "    matching_graph.add_node(\"r2\")\n",
    "    # Then add the regular syndromes\n",
    "    for i in range(d - 1):\n",
    "        matching_graph.add_node(f\"s{i}\")\n",
    "    # Add an edge of weight w = log((1-p_i)/p_i) for each qubit.\n",
    "    for i in range(d):\n",
    "        w = log((1. - probabilities[i]) / probabilities[i])\n",
    "        if i == 0:\n",
    "            matching_graph.add_edge(\"r1\", \"s0\", weight=w, label=\"q0\")\n",
    "        elif i == d - 1:\n",
    "            matching_graph.add_edge(\"r2\", f\"s{i-1}\", weight=w, label=f\"q{i}\")\n",
    "        else:\n",
    "            matching_graph.add_edge(f\"s{i-1}\", f\"s{i}\", weight=w, label=f\"q{i}\")\n",
    "    return matching_graph"
   ]
  },
  {
   "cell_type": "code",
   "execution_count": 44,
   "id": "0a963dc8",
   "metadata": {},
   "outputs": [],
   "source": [
    "def error_to_syndrome(err: np.ndarray) -> np.ndarray:\n",
    "    \"\"\"Convert a list of bit-flips into a the repetition code syndrome.\"\"\"\n",
    "\n",
    "    d = err.size\n",
    "    check = np.zeros((d-1, d), dtype=bool)\n",
    "    for i in range(d - 1):\n",
    "        check[i, i] = True\n",
    "        check[i, i + 1] = True\n",
    "    return ((check.astype(int) @ err.astype(int)) % 2).astype(bool)"
   ]
  },
  {
   "cell_type": "code",
   "execution_count": 45,
   "id": "6f6f5433",
   "metadata": {},
   "outputs": [],
   "source": [
    "def syndrome_graph(matching: nx.Graph, syndrome: np.ndarray) -> nx.Graph:\n",
    "    \"\"\"Gets the syndrome graph for a binary syndrome vector given the\n",
    "    matching graph.\"\"\"\n",
    "\n",
    "    d = len(matching.nodes()) - 1\n",
    "    assert syndrome.size == d - 1\n",
    "\n",
    "    syndrome_nodes: List[str] = []\n",
    "    # Build a graph with a node for each 1 in the syndrome.\n",
    "    # The weight between two nodes will be the distance on the matching graph.\n",
    "    syndrome_gr = nx.Graph()\n",
    "    for i, b in enumerate(syndrome):\n",
    "        if b:\n",
    "            syndrome_gr.add_node(f\"s{i}\")\n",
    "    # If there is an odd number of ones in the syndrome,\n",
    "    # we need to add in one of our \"dummy\" nodes because there is a flip\n",
    "    # on the leftmost or rightmost bit.\n",
    "    # Find the lowest index i such that syndrome[i] = 1.\n",
    "    # If i <= d / 2, then add the left dummy.\n",
    "    # If i >= d / 2, then add the right dummy.\n",
    "    if len(syndrome_gr.nodes()) % 2 != 0:\n",
    "        for first_i, b in enumerate(syndrome):\n",
    "            if b:\n",
    "                break\n",
    "        if first_i < len(syndrome) // 2:\n",
    "            syndrome_gr.add_node(\"r1\")\n",
    "        else:\n",
    "            syndrome_gr.add_node(\"r2\")\n",
    "    assert set(syndrome_gr.nodes()).issubset(matching.nodes())\n",
    "    for sn1 in syndrome_gr.nodes():\n",
    "        for sn2 in syndrome_gr.nodes():\n",
    "            if sn1 != sn2:\n",
    "                length = nx.shortest_path_length(matching, sn1, sn2, weight='weight')\n",
    "                syndrome_gr.add_edge(sn1, sn2, weight=length)\n",
    "    return syndrome_gr"
   ]
  },
  {
   "cell_type": "code",
   "execution_count": 46,
   "id": "028ecfd2",
   "metadata": {},
   "outputs": [],
   "source": [
    "def repetition_tanner_graph(d: int) -> nx.Graph:\n",
    "    \"\"\"Get the Tanner graph for a repetition code.\"\"\"\n",
    "\n",
    "    assert d % 2 != 0\n",
    "    assert d >= 3\n",
    "\n",
    "    tanner_graph = nx.Graph()\n",
    "    for i in range(d):\n",
    "        tanner_graph.add_node(f\"q{i}\")\n",
    "        if i == 0:\n",
    "            tanner_graph.add_node(f\"r1\")\n",
    "            tanner_graph.add_node(f\"s0\")\n",
    "            tanner_graph.add_edge(\"q0\", \"r1\")\n",
    "            tanner_graph.add_edge(\"q0\", \"s0\")\n",
    "        elif i == d - 1:\n",
    "            tanner_graph.add_node(\"r2\")\n",
    "            tanner_graph.add_edge(f\"q{i}\", \"r2\")\n",
    "            tanner_graph.add_edge(f\"q{i}\", f\"s{i - 1}\")\n",
    "        else:\n",
    "            tanner_graph.add_node(f\"s{i}\")\n",
    "            tanner_graph.add_edge(f\"q{i}\", f\"s{i - 1}\")\n",
    "            tanner_graph.add_edge(f\"q{i}\", f\"s{i}\")\n",
    "    return tanner_graph"
   ]
  },
  {
   "cell_type": "code",
   "execution_count": 47,
   "id": "31309c95",
   "metadata": {},
   "outputs": [],
   "source": [
    "def matching_to_correction(matching, matching_gr, tanner_graph) -> np.ndarray:\n",
    "    \"\"\"Convert the minimum-weight matching to a binary correction.\"\"\"\n",
    "\n",
    "    def qubit_for_syndrome_pair(s1, s2):\n",
    "        s1_neighbors = set(tanner_graph.neighbors(s1))\n",
    "        s2_neighbors = set(tanner_graph.neighbors(s2))\n",
    "        shared_nodes = s1_neighbors & s2_neighbors\n",
    "        assert len(shared_nodes) == 1, f\"{s1_neighbors} {s2_neighbors}\"\n",
    "        q_name = list(shared_nodes)[0]\n",
    "        idx = int(re.search(r'\\d+', q_name).group()) \n",
    "        return idx\n",
    "\n",
    "    # Count qubits in the Tanner graph.\n",
    "    nq = 0\n",
    "    for node in tanner_graph.nodes():\n",
    "        if 'q' in node:\n",
    "            nq += 1\n",
    "\n",
    "    correction = [False] * nq\n",
    "    for n1, n2 in matching:\n",
    "        # Get a path from n1 to n2 on the matching graph.\n",
    "        # Each edge on the path will give us a qubit.\n",
    "        path = nx.shortest_path(matching_gr, n1, n2)\n",
    "        for i in range(len(path) - 1):\n",
    "            s1 = path[i]\n",
    "            s2 = path[i+1]\n",
    "            idx = qubit_for_syndrome_pair(s1, s2)\n",
    "            correction[idx] = True\n",
    "    return np.array(correction)"
   ]
  },
  {
   "cell_type": "code",
   "execution_count": 48,
   "id": "669a296c",
   "metadata": {},
   "outputs": [
    {
     "name": "stdout",
     "output_type": "stream",
     "text": [
      "syndrome = [False  True False  True]\n",
      "syndrome graph nodes: ['s1', 's3']\n",
      "matching = {('s3', 's1')}\n",
      "correction = [False False  True  True False]\n",
      "[False False False False False]\n"
     ]
    }
   ],
   "source": [
    "d = 5\n",
    "probs = [0.1] * d\n",
    "err = np.array([False, False, True, True, False])\n",
    "syndrome = error_to_syndrome(err)\n",
    "print(f\"syndrome = {syndrome}\")\n",
    "\n",
    "tanner_graph = repetition_tanner_graph(d)\n",
    "matching_gr = matching_graph(d, probs)\n",
    "syndrome_gr = syndrome_graph(matching_gr, syndrome)\n",
    "print(f\"syndrome graph nodes: {syndrome_gr.nodes()}\")\n",
    "matching = nx.min_weight_matching(syndrome_gr)\n",
    "print(\"matching =\", matching)\n",
    "correction = matching_to_correction(matching, matching_gr, tanner_graph)\n",
    "print(f\"correction = {correction}\")\n",
    "print(correction ^ err)"
   ]
  },
  {
   "cell_type": "code",
   "execution_count": 49,
   "id": "df379165",
   "metadata": {},
   "outputs": [
    {
     "data": {
      "text/plain": [
       "{'q0': Text(-0.8354231753837954, 0.1346139180752444, 'q0'),\n",
       " 'r1': Text(-1.0, 0.11865996750445222, 'r1'),\n",
       " 's0': Text(-0.6259739529725341, 0.10806954737473191, 's0'),\n",
       " 'q1': Text(-0.40974280456112405, 0.03419313201471634, 'q1'),\n",
       " 's1': Text(-0.19996160596620974, -0.07221024309549601, 's1'),\n",
       " 'q2': Text(0.020895358169533158, -0.1622518561807759, 'q2'),\n",
       " 's2': Text(0.2523525474217716, -0.21045064723927628, 's2'),\n",
       " 'q3': Text(0.47905296781162265, -0.18646465809217636, 'q3'),\n",
       " 's3': Text(0.6684068171784225, -0.08227967183729296, 's3'),\n",
       " 'q4': Text(0.7807181371424187, 0.08221438972313051, 'q4'),\n",
       " 'r2': Text(0.8696757111598947, 0.23590612175274225, 'r2')}"
      ]
     },
     "execution_count": 49,
     "metadata": {},
     "output_type": "execute_result"
    },
    {
     "data": {
      "image/png": "[encoded data removed]",
      "text/plain": [
       "<Figure size 640x480 with 1 Axes>"
      ]
     },
     "metadata": {},
     "output_type": "display_data"
    }
   ],
   "source": [
    "plt.figure()\n",
    "pos = nx.spring_layout(tanner_graph)\n",
    "nx.draw_networkx_nodes(tanner_graph, pos)\n",
    "nx.draw_networkx_edges(tanner_graph, pos)\n",
    "nx.draw_networkx_labels(tanner_graph, pos)"
   ]
  },
  {
   "cell_type": "code",
   "execution_count": 50,
   "id": "f575fdfd",
   "metadata": {},
   "outputs": [
    {
     "data": {
      "text/plain": [
       "{'r1': Text(-0.9988774080692716, -0.20812718762917737, 'r1'),\n",
       " 'r2': Text(0.9999999999999999, 0.19626565258474254, 'r2'),\n",
       " 's0': Text(-0.6377337771605707, -0.12826149520212482, 's0'),\n",
       " 's1': Text(-0.21621990553149056, -0.03833862502977411, 's1'),\n",
       " 's2': Text(0.2155965792347059, 0.04904498254963827, 's2'),\n",
       " 's3': Text(0.6372345115266271, 0.12941667272669483, 's3')}"
      ]
     },
     "execution_count": 50,
     "metadata": {},
     "output_type": "execute_result"
    },
    {
     "data": {
      "image/png": "[encoded data removed]",
      "text/plain": [
       "<Figure size 640x480 with 1 Axes>"
      ]
     },
     "metadata": {},
     "output_type": "display_data"
    }
   ],
   "source": [
    "plt.figure()\n",
    "pos = nx.spring_layout(matching_gr)\n",
    "nx.draw_networkx_nodes(matching_gr, pos)\n",
    "nx.draw_networkx_edges(matching_gr, pos)\n",
    "nx.draw_networkx_labels(matching_gr, pos)"
   ]
  },
  {
   "cell_type": "code",
   "execution_count": 51,
   "id": "e730f11f",
   "metadata": {},
   "outputs": [
    {
     "data": {
      "text/plain": [
       "{'s1': Text(-1.0, 0.7293592455642932, 's1'),\n",
       " 's3': Text(0.9999999999999999, -0.7293592455642935, 's3')}"
      ]
     },
     "execution_count": 51,
     "metadata": {},
     "output_type": "execute_result"
    },
    {
     "data": {
      "image/png": "[encoded data removed]",
      "text/plain": [
       "<Figure size 640x480 with 1 Axes>"
      ]
     },
     "metadata": {},
     "output_type": "display_data"
    }
   ],
   "source": [
    "plt.figure()\n",
    "pos = nx.spring_layout(syndrome_gr)\n",
    "nx.draw_networkx_nodes(syndrome_gr, pos)\n",
    "nx.draw_networkx_edges(syndrome_gr, pos)\n",
    "nx.draw_networkx_labels(syndrome_gr, pos)"
   ]
  },
  {
   "cell_type": "code",
   "execution_count": 52,
   "id": "635d5a3e",
   "metadata": {},
   "outputs": [],
   "source": [
    "def syndrome_to_correction(syndrome: np.ndarray, probabilities: np.ndarray) -> np.ndarray:\n",
    "    \"\"\"Map a syndrome to a correction given an error model.\"\"\"\n",
    "\n",
    "    d = len(syndrome) + 1\n",
    "    tanner_gr = repetition_tanner_graph(d)\n",
    "    matching_gr = matching_graph(d, probabilities)\n",
    "    syndrome_gr = syndrome_graph(matching_gr, syndrome)\n",
    "    matching = nx.min_weight_matching(syndrome_gr)\n",
    "    correction = matching_to_correction(matching, matching_gr, tanner_gr)\n",
    "    return correction"
   ]
  },
  {
   "cell_type": "code",
   "execution_count": 53,
   "id": "372b9a59",
   "metadata": {},
   "outputs": [],
   "source": [
    "def repetition_code_circuit(d: int, p: float, prep_state: int = 0, depolarize: bool = False) -> stim.Circuit:\n",
    "    \"\"\"A single round of repetition code syndrome extraction proceeded by\n",
    "    a bit-flip noise model on the data qubits.\"\"\"\n",
    "\n",
    "    assert d >= 3\n",
    "    assert d % 2 != 0\n",
    "    assert prep_state in set([0, 1])\n",
    "    assert p >= 0. and p <= 1.\n",
    "\n",
    "    data_qubits = list(range(0, 2 * d, 2))\n",
    "    measure_qubits = list(range(1, 2 * d - 1, 2))\n",
    "\n",
    "    ckt = stim.Circuit()\n",
    "    for q in sorted(data_qubits + measure_qubits):\n",
    "        ckt.append(\"R\", q)\n",
    "    # Prepare the 0 or 1 state.\n",
    "    if prep_state == 1:\n",
    "        ckt.append(\"X\", [0])\n",
    "        cnot_targets = []\n",
    "        for i in range(1, len(data_qubits)):\n",
    "            cnot_targets += [data_qubits[i-1], data_qubits[i]]\n",
    "        ckt.append(\"CX\", cnot_targets)\n",
    "        ckt.append(\"TICK\")\n",
    "    # Add a round of noise.\n",
    "    if depolarize:\n",
    "        ckt.append(\"DEPOLARIZE1\", data_qubits, arg=p)\n",
    "    else:\n",
    "        ckt.append(\"X_ERROR\", data_qubits, arg=p)\n",
    "    ckt.append(\"TICK\")\n",
    "    # Add a round of syndrome extraction and observable measurement.\n",
    "    measure_targets = []\n",
    "    for mq in measure_qubits:\n",
    "        measure_targets += [mq-1, mq]\n",
    "    ckt.append(\"CX\", measure_targets)\n",
    "    ckt.append(\"TICK\")\n",
    "    measure_targets = []\n",
    "    for mq in measure_qubits:\n",
    "        measure_targets += [mq+1, mq]\n",
    "    ckt.append(\"CX\", measure_targets)\n",
    "    ckt.append(\"TICK\")\n",
    "    ckt.append(\"M\", measure_qubits)\n",
    "    # Add detectors for the syndrome measurments\n",
    "    for i, mq in enumerate(measure_qubits):\n",
    "        ckt.append_from_stim_program_text(f\"DETECTOR({mq}, 0) rec[{-i - 1}]\")\n",
    "    # Add detectors and an observable for the data qubits.\n",
    "    ckt.append(\"M\", data_qubits)\n",
    "    for i, dq in enumerate(data_qubits[:-1]):\n",
    "        ckt.append_from_stim_program_text(f\"DETECTOR({dq}, 1) rec[{-i - 2}] rec[{-i - 1}] rec[{-i - d - 1}]\")\n",
    "    ckt.append_from_stim_program_text(f\"OBSERVABLE_INCLUDE(0) rec[-1]\")\n",
    "    return ckt"
   ]
  },
  {
   "cell_type": "code",
   "execution_count": 54,
   "id": "af4f296e",
   "metadata": {},
   "outputs": [],
   "source": [
    "def count_logical_errors_pymatching(d: int, p:float, num_shots: int) -> int:\n",
    "    circuit = repetition_code_circuit(d, p)\n",
    "\n",
    "    # Sample the circuit.\n",
    "    sampler = circuit.compile_detector_sampler()\n",
    "    detection_events, observable_flips = sampler.sample(num_shots, separate_observables=True)\n",
    "\n",
    "    # Configure a decoder using the circuit.\n",
    "    detector_error_model = circuit.detector_error_model(decompose_errors=True)\n",
    "    matcher = pymatching.Matching.from_detector_error_model(detector_error_model)\n",
    "\n",
    "    # Run the decoder.\n",
    "    predictions = matcher.decode_batch(detection_events)\n",
    "\n",
    "    # Count the mistakes.\n",
    "    num_errors = 0\n",
    "    for shot in range(num_shots):\n",
    "        actual_for_shot = observable_flips[shot]\n",
    "        predicted_for_shot = predictions[shot]\n",
    "        if not np.array_equal(actual_for_shot, predicted_for_shot):\n",
    "            num_errors += 1\n",
    "    return num_errors"
   ]
  },
  {
   "cell_type": "code",
   "execution_count": 55,
   "id": "4aceb21e",
   "metadata": {},
   "outputs": [],
   "source": [
    "def decode_batch(syndromes: np.ndarray, probabilities: np.ndarray) -> np.ndarray:\n",
    "    \"\"\"Get corrections for a batch of syndromes.\"\"\"\n",
    "\n",
    "    corrections = np.zeros((syndromes.shape[0], syndromes.shape[1] + 1), dtype=bool)\n",
    "    for i, s in enumerate(syndromes):\n",
    "        corrections[i, :] = syndrome_to_correction(s, probabilities)\n",
    "    return corrections\n",
    "\n",
    "\n",
    "def count_logical_errors_my_decoder(d: int, p: float, shots: int) -> int:\n",
    "    \"\"\"Sample syndromes from a stim circuit and return the number of logical errors\n",
    "    according to my decoder.\"\"\"\n",
    "\n",
    "    circuit = repetition_code_circuit(d, p)\n",
    "    probs = p * np.ones(d)\n",
    "    sampler = circuit.compile_sampler()\n",
    "    samples = sampler.sample(shots)\n",
    "    syndromes = samples[:, :(d-1)]\n",
    "    data_measurements = samples[:, (d-1):]\n",
    "    corrections = decode_batch(syndromes, probs)\n",
    "\n",
    "    num_errors = 0\n",
    "    for i in range(shots):\n",
    "        # print(\"Measurement =\", data_measurements[i, :])\n",
    "        # print(\"Correction =\", corrections[i, :])\n",
    "        if data_measurements[i, 0] != corrections[i, 0]:\n",
    "            # print(\"That's an error.\")\n",
    "            num_errors += 1\n",
    "    return num_errors"
   ]
  },
  {
   "cell_type": "code",
   "execution_count": 56,
   "id": "a983fb6d",
   "metadata": {},
   "outputs": [],
   "source": [
    "shots = 10_000\n",
    "d = 3\n",
    "ps = np.linspace(1e-4, 0.5, num=7)\n",
    "pymatching_lers = []\n",
    "my_lers = []\n",
    "\n",
    "for p in ps:\n",
    "    num_errors_pymatching = count_logical_errors_pymatching(d, p, shots)\n",
    "    pymatching_lers.append(float(num_errors_pymatching) / float(shots))\n",
    "    num_errors_me = count_logical_errors_my_decoder(d, p, shots)\n",
    "    my_lers.append(float(num_errors_me) / float(shots))"
   ]
  },
  {
   "cell_type": "code",
   "execution_count": 57,
   "id": "620fcaad",
   "metadata": {},
   "outputs": [
    {
     "data": {
      "text/plain": [
       "[<matplotlib.lines.Line2D at 0x12eaec800>]"
      ]
     },
     "execution_count": 57,
     "metadata": {},
     "output_type": "execute_result"
    },
    {
     "data": {
      "image/png": "[encoded data removed]",
      "text/plain": [
       "<Figure size 640x480 with 1 Axes>"
      ]
     },
     "metadata": {},
     "output_type": "display_data"
    }
   ],
   "source": [
    "fig, ax = plt.subplots()\n",
    "ax.plot(ps, pymatching_lers, label=\"pymatching\")\n",
    "ax.plot(ps, my_lers, label=\"me\")"
   ]
  },
  {
   "cell_type": "code",
   "execution_count": null,
   "id": "26e47e05",
   "metadata": {},
   "outputs": [],
   "source": []
  }
 ],
 "metadata": {
  "kernelspec": {
   "display_name": "deqode",
   "language": "python",
   "name": "deqode"
  },
  "language_info": {
   "codemirror_mode": {
    "name": "ipython",
    "version": 3
   },
   "file_extension": ".py",
   "mimetype": "text/x-python",
   "name": "python",
   "nbconvert_exporter": "python",
   "pygments_lexer": "ipython3",
   "version": "3.12.11"
  }
 },
 "nbformat": 4,
 "nbformat_minor": 5
}
