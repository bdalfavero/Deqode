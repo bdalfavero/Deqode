{
 "cells": [
  {
   "cell_type": "code",
   "execution_count": 303,
   "id": "7a6851fe",
   "metadata": {},
   "outputs": [],
   "source": [
    "from typing import List\n",
    "import re\n",
    "from math import log\n",
    "import numpy as np\n",
    "import matplotlib.pyplot as plt\n",
    "import networkx as nx"
   ]
  },
  {
   "cell_type": "code",
   "execution_count": 304,
   "id": "18518802",
   "metadata": {},
   "outputs": [],
   "source": [
    "def matching_graph(d: int, probabilities: List[float]) -> nx.Graph:\n",
    "    \"\"\"Get the matching graph for the repetition code.\n",
    "    \n",
    "    Arguments:\n",
    "    d - Distance of the code. Should be odd.\n",
    "    probabilities - A list of bit-flip probablities.\n",
    "    \n",
    "    Returns:\n",
    "    M - The matching graph for this code and error model.\"\"\"\n",
    "\n",
    "    assert d >= 3, f\"Distance must be >= 3, but got {d}.\"\n",
    "    assert d % 2 != 0, f\"Distance d must be odd, but got {d}.\"\n",
    "\n",
    "    matching_graph = nx.Graph()\n",
    "    # First add the \"extra nodes\" for the leftmost and rightmost qubits.\n",
    "    matching_graph.add_node(\"r1\")\n",
    "    matching_graph.add_node(\"r2\")\n",
    "    # Then add the regular syndromes\n",
    "    for i in range(d - 1):\n",
    "        matching_graph.add_node(f\"s{i}\")\n",
    "    # Add an edge of weight w = log((1-p_i)/p_i) for each qubit.\n",
    "    for i in range(d):\n",
    "        w = log((1. - probabilities[i]) / probabilities[i])\n",
    "        if i == 0:\n",
    "            matching_graph.add_edge(\"r1\", \"s0\", weight=w, label=\"q0\")\n",
    "        elif i == d - 1:\n",
    "            matching_graph.add_edge(\"r2\", f\"s{i-1}\", weight=w, label=f\"q{i}\")\n",
    "        else:\n",
    "            matching_graph.add_edge(f\"s{i-1}\", f\"s{i}\", weight=w, label=f\"q{i}\")\n",
    "    return matching_graph"
   ]
  },
  {
   "cell_type": "code",
   "execution_count": 305,
   "id": "0a963dc8",
   "metadata": {},
   "outputs": [],
   "source": [
    "def error_to_syndrome(err: np.ndarray) -> np.ndarray:\n",
    "    \"\"\"Convert a list of bit-flips into a the repetition code syndrome.\"\"\"\n",
    "\n",
    "    d = err.size\n",
    "    check = np.zeros((d-1, d), dtype=bool)\n",
    "    for i in range(d - 1):\n",
    "        check[i, i] = True\n",
    "        check[i, i + 1] = True\n",
    "    return ((check.astype(int) @ err.astype(int)) % 2).astype(bool)"
   ]
  },
  {
   "cell_type": "code",
   "execution_count": 306,
   "id": "6f6f5433",
   "metadata": {},
   "outputs": [],
   "source": [
    "def syndrome_graph(matching: nx.Graph, syndrome: np.ndarray) -> nx.Graph:\n",
    "    \"\"\"Gets the syndrome graph for a binary syndrome vector given the\n",
    "    matching graph.\"\"\"\n",
    "\n",
    "    d = len(matching.nodes()) - 1\n",
    "    assert syndrome.size == d - 1\n",
    "\n",
    "    syndrome_nodes: List[str] = []\n",
    "    for i, b in enumerate(syndrome):\n",
    "        if b:\n",
    "            syndrome_nodes.append(f\"s{i}\")\n",
    "            if i == 0:\n",
    "                if not syndrome[1]:\n",
    "                    syndrome_nodes.append(\"r1\")\n",
    "            if i == len(syndrome) - 1:\n",
    "                if not syndrome[-2]:\n",
    "                    syndrome_nodes.append(\"r2\")\n",
    "    # Build a graph with a node for each 1 in the syndrome.\n",
    "    # The weight between two nodes will be the distance on the matching graph.\n",
    "    syndrome_gr = nx.Graph()\n",
    "    for snode in syndrome_nodes:\n",
    "        syndrome_gr.add_node(snode)\n",
    "    assert set(syndrome_gr.nodes()).issubset(matching.nodes())\n",
    "    for sn1 in syndrome_gr.nodes():\n",
    "        for sn2 in syndrome_gr.nodes():\n",
    "            if sn1 != sn2:\n",
    "                length = nx.shortest_path_length(matching, sn1, sn2, weight='weight')\n",
    "                syndrome_gr.add_edge(sn1, sn2, weight=length)\n",
    "    return syndrome_gr"
   ]
  },
  {
   "cell_type": "code",
   "execution_count": 307,
   "id": "028ecfd2",
   "metadata": {},
   "outputs": [],
   "source": [
    "def repetition_tanner_graph(d: int) -> nx.Graph:\n",
    "    \"\"\"Get the Tanner graph for a repetition code.\"\"\"\n",
    "\n",
    "    assert d % 2 != 0\n",
    "    assert d >= 3\n",
    "\n",
    "    tanner_graph = nx.Graph()\n",
    "    for i in range(d):\n",
    "        tanner_graph.add_node(f\"q{i}\")\n",
    "        if i == 0:\n",
    "            tanner_graph.add_node(f\"r1\")\n",
    "            tanner_graph.add_node(f\"s0\")\n",
    "            tanner_graph.add_edge(\"q0\", \"r1\")\n",
    "            tanner_graph.add_edge(\"q0\", \"s0\")\n",
    "        elif i == d - 1:\n",
    "            tanner_graph.add_node(\"r2\")\n",
    "            tanner_graph.add_edge(f\"q{i}\", \"r2\")\n",
    "            tanner_graph.add_edge(f\"q{i}\", f\"s{i - 1}\")\n",
    "        else:\n",
    "            tanner_graph.add_node(f\"s{i}\")\n",
    "            tanner_graph.add_edge(f\"q{i}\", f\"s{i - 1}\")\n",
    "            tanner_graph.add_edge(f\"q{i}\", f\"s{i}\")\n",
    "    return tanner_graph"
   ]
  },
  {
   "cell_type": "code",
   "execution_count": 308,
   "id": "31309c95",
   "metadata": {},
   "outputs": [],
   "source": [
    "def matching_to_correction(matching, tanner_graph) -> np.ndarray:\n",
    "    \"\"\"Convert the minimum-weight matching to a binary correction.\"\"\"\n",
    "\n",
    "    # Count qubits in the Tanner graph.\n",
    "    nq = 0\n",
    "    for node in tanner_graph.nodes():\n",
    "        if 'q' in node:\n",
    "            nq += 1\n",
    "\n",
    "    correction = [False] * nq\n",
    "    for n1, n2 in matching:\n",
    "        n1_neighbors = tanner_graph.neighbors(n1)\n",
    "        n2_neighbors = tanner_graph.neighbors(n2)\n",
    "        common_qubits = set(n1_neighbors) & set(n2_neighbors)\n",
    "        assert len(common_qubits) == 1\n",
    "        qubit_node_name = list(common_qubits)[0]\n",
    "        idx = int(re.search(r'\\d+', qubit_node_name).group()) \n",
    "        correction[idx] = True\n",
    "    return np.array(correction)"
   ]
  },
  {
   "cell_type": "code",
   "execution_count": null,
   "id": "669a296c",
   "metadata": {},
   "outputs": [
    {
     "name": "stdout",
     "output_type": "stream",
     "text": [
      "syndrome = [ True False  True False]\n",
      "syndrome graph nodes: ['s0', 'r1', 's2']\n",
      "matching = {('r1', 's0')}\n",
      "correction = [ True False False False False]\n",
      "[ True  True  True False False]\n"
     ]
    }
   ],
   "source": [
    "d = 5\n",
    "probs = [0.1] * d\n",
    "# TODO this case should not have a dummy!\n",
    "err = np.array([False, True, True, False, False])\n",
    "syndrome = error_to_syndrome(err)\n",
    "print(f\"syndrome = {syndrome}\")\n",
    "\n",
    "tanner_graph = repetition_tanner_graph(d)\n",
    "matching_gr = matching_graph(d, probs)\n",
    "syndrome_gr = syndrome_graph(matching_gr, syndrome)\n",
    "print(f\"syndrome graph nodes: {syndrome_gr.nodes()}\")\n",
    "matching = nx.min_weight_matching(syndrome_gr)\n",
    "print(\"matching =\", matching)\n",
    "correction = matching_to_correction(matching, tanner_graph)\n",
    "print(f\"correction = {correction}\")\n",
    "print(correction ^ err)"
   ]
  },
  {
   "cell_type": "code",
   "execution_count": 310,
   "id": "df379165",
   "metadata": {},
   "outputs": [
    {
     "data": {
      "text/plain": [
       "{'q0': Text(-0.06194707775286194, 0.8540005643619544, 'q0'),\n",
       " 'r1': Text(0.05581608073626282, 1.0, 'r1'),\n",
       " 's0': Text(-0.15771261081658897, 0.6804704220979644, 's0'),\n",
       " 'q1': Text(-0.16713398432147203, 0.45374393019440606, 'q1'),\n",
       " 's1': Text(-0.1345088435193967, 0.21178446518019906, 's1'),\n",
       " 'q2': Text(-0.132458988437099, -0.03769366798649224, 'q2'),\n",
       " 's2': Text(-0.12352233010606765, -0.2882545108264377, 's2'),\n",
       " 'q3': Text(-0.062235247358432014, -0.5228925200367758, 'q3'),\n",
       " 's3': Text(0.0757213522239011, -0.7047136913349665, 's3'),\n",
       " 'q4': Text(0.2707443335641741, -0.769034597569734, 'q4'),\n",
       " 'r2': Text(0.43723731578758057, -0.8774103940801177, 'r2')}"
      ]
     },
     "execution_count": 310,
     "metadata": {},
     "output_type": "execute_result"
    },
    {
     "data": {
      "image/png": "[encoded data removed]",
      "text/plain": [
       "<Figure size 640x480 with 1 Axes>"
      ]
     },
     "metadata": {},
     "output_type": "display_data"
    }
   ],
   "source": [
    "plt.figure()\n",
    "pos = nx.spring_layout(tanner_graph)\n",
    "nx.draw_networkx_nodes(tanner_graph, pos)\n",
    "nx.draw_networkx_edges(tanner_graph, pos)\n",
    "nx.draw_networkx_labels(tanner_graph, pos)"
   ]
  },
  {
   "cell_type": "code",
   "execution_count": 311,
   "id": "f575fdfd",
   "metadata": {},
   "outputs": [
    {
     "data": {
      "text/plain": [
       "{'r1': Text(-1.0, 0.1861524792270329, 'r1'),\n",
       " 'r2': Text(0.9999153977665891, -0.1769262034368337, 'r2'),\n",
       " 's0': Text(-0.6373871111144989, 0.11570150203120906, 's0'),\n",
       " 's1': Text(-0.21506962789492162, 0.034986155072419034, 's1'),\n",
       " 's2': Text(0.2147530688669232, -0.0433767077431405, 's2'),\n",
       " 's3': Text(0.6377882723759075, -0.11653722515068696, 's3')}"
      ]
     },
     "execution_count": 311,
     "metadata": {},
     "output_type": "execute_result"
    },
    {
     "data": {
      "image/png": "[encoded data removed]",
      "text/plain": [
       "<Figure size 640x480 with 1 Axes>"
      ]
     },
     "metadata": {},
     "output_type": "display_data"
    }
   ],
   "source": [
    "plt.figure()\n",
    "pos = nx.spring_layout(matching_gr)\n",
    "nx.draw_networkx_nodes(matching_gr, pos)\n",
    "nx.draw_networkx_edges(matching_gr, pos)\n",
    "nx.draw_networkx_labels(matching_gr, pos)"
   ]
  },
  {
   "cell_type": "code",
   "execution_count": 312,
   "id": "e730f11f",
   "metadata": {},
   "outputs": [
    {
     "data": {
      "text/plain": [
       "{'s0': Text(-0.34916080452341003, -0.9999999999999999, 's0'),\n",
       " 'r1': Text(0.8362548350878286, 0.4927571275938284, 'r1'),\n",
       " 's2': Text(-0.4870940305644191, 0.5072428724061708, 's2')}"
      ]
     },
     "execution_count": 312,
     "metadata": {},
     "output_type": "execute_result"
    },
    {
     "data": {
      "image/png": "[encoded data removed]",
      "text/plain": [
       "<Figure size 640x480 with 1 Axes>"
      ]
     },
     "metadata": {},
     "output_type": "display_data"
    }
   ],
   "source": [
    "plt.figure()\n",
    "pos = nx.spring_layout(syndrome_gr)\n",
    "nx.draw_networkx_nodes(syndrome_gr, pos)\n",
    "nx.draw_networkx_edges(syndrome_gr, pos)\n",
    "nx.draw_networkx_labels(syndrome_gr, pos)"
   ]
  },
  {
   "cell_type": "code",
   "execution_count": null,
   "id": "635d5a3e",
   "metadata": {},
   "outputs": [],
   "source": []
  }
 ],
 "metadata": {
  "kernelspec": {
   "display_name": "deqode",
   "language": "python",
   "name": "deqode"
  },
  "language_info": {
   "codemirror_mode": {
    "name": "ipython",
    "version": 3
   },
   "file_extension": ".py",
   "mimetype": "text/x-python",
   "name": "python",
   "nbconvert_exporter": "python",
   "pygments_lexer": "ipython3",
   "version": "3.12.11"
  }
 },
 "nbformat": 4,
 "nbformat_minor": 5
}
