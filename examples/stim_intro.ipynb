{
 "cells": [
  {
   "cell_type": "code",
   "execution_count": 54,
   "id": "228894d2",
   "metadata": {},
   "outputs": [],
   "source": [
    "import numpy as np\n",
    "import matplotlib.pyplot as plt\n",
    "import stim"
   ]
  },
  {
   "cell_type": "markdown",
   "id": "d5326694",
   "metadata": {},
   "source": [
    "## Pauli strings"
   ]
  },
  {
   "cell_type": "markdown",
   "id": "4da8fc6b",
   "metadata": {},
   "source": [
    "There are three ways to initialize a Pauli string in stim:\n",
    "1. From a numpy array\n",
    "1. From a string of characters\n",
    "1. From a unitary matrix.\n",
    "\n",
    "When initializing a Pauli string from a string of characters, the phase is represented by one of `+`, `-`, `i`, and `-i`. The Pauli matrices $X$, $Y$, and $Z$ are respresented by the characters `X`, `Y`, and `Z`. The identity matrix $I$ can be either `I` or `_`.\n",
    "\n",
    "When initializing from numpy arrays, we use the binary symplectic representation. We pass two arrays representing the $X$ and $Z$ parts. The sign of a Pauli string can be one of `1`, `-1`, `1j`, and `-1j`."
   ]
  },
  {
   "cell_type": "code",
   "execution_count": null,
   "id": "92d700df",
   "metadata": {},
   "outputs": [],
   "source": [
    "ps1 = stim.PauliString(\"-_XYZ\")\n",
    "xs = np.array([0, 1, 1, 0], dtype=np.bool_)\n",
    "zs = np.array([0, 0, 1, 1], dtype=np.bool_)\n",
    "ps2 = stim.PauliString.from_numpy(xs=xs, zs=zs, sign=-1)\n",
    "assert ps1 == ps2"
   ]
  },
  {
   "cell_type": "markdown",
   "id": "c4348fdf",
   "metadata": {},
   "source": [
    "_Problem:_ Build the unitary matrix for the Pauli string $-iX \\otimes Y$. Then initialize the stim Pauli string $-iYX$ and check that they are equal. You may want to use the `np.kron` function to take the tensor product of the Pauli matrices."
   ]
  },
  {
   "cell_type": "code",
   "execution_count": 20,
   "id": "2ab47557",
   "metadata": {},
   "outputs": [],
   "source": [
    "x = np.array([[0., 1.], [1., 0.]])\n",
    "y = np.array([[0., -1j], [1j, 0.]])\n",
    "u = -1j * np.kron(x, y)\n",
    "ps1 = stim.PauliString.from_unitary_matrix(u)\n",
    "ps2 = stim.PauliString(\"-iYX\")\n",
    "assert ps1 == ps2"
   ]
  },
  {
   "cell_type": "markdown",
   "id": "36d15a93",
   "metadata": {},
   "source": [
    "The Pauli strings in stim support a few operations:\n",
    "1. Scalar multiplication with `*`. This is to change the phase of the string.\n",
    "1. Pauli string multiplication with `*`. This is the usual way we mutltiply strings.\n",
    "1. Tensor products with `+`. Note that this does *not* perform linear combinations!"
   ]
  },
  {
   "cell_type": "code",
   "execution_count": 15,
   "id": "1fdcafc0",
   "metadata": {},
   "outputs": [
    {
     "name": "stdout",
     "output_type": "stream",
     "text": [
      "-iXXX\n",
      "-XXXZYZ\n",
      "+iYZY\n"
     ]
    }
   ],
   "source": [
    "ps1 = stim.PauliString(\"-XXX\")\n",
    "ps2 = stim.PauliString(\"+ZYZ\")\n",
    "print(1j * ps1)\n",
    "print(ps1 + ps2)\n",
    "print(ps1 * ps2)"
   ]
  },
  {
   "cell_type": "markdown",
   "id": "9acd0adb",
   "metadata": {},
   "source": [
    "*Problem:* Multiply the Pauli strings $iXY$ and $ZZ$."
   ]
  },
  {
   "cell_type": "code",
   "execution_count": null,
   "id": "f8413338",
   "metadata": {},
   "outputs": [],
   "source": []
  },
  {
   "cell_type": "markdown",
   "id": "fdbe5033",
   "metadata": {},
   "source": [
    "*Problem:* Take the tensor product of $X$ and $Y$ and confirm that it is the same as the string $XY$."
   ]
  },
  {
   "cell_type": "code",
   "execution_count": null,
   "id": "b0323148",
   "metadata": {},
   "outputs": [],
   "source": []
  },
  {
   "cell_type": "markdown",
   "id": "d8e0d33d",
   "metadata": {},
   "source": [
    "## Tableaus and circuits"
   ]
  },
  {
   "cell_type": "markdown",
   "id": "57b24dcb",
   "metadata": {},
   "source": [
    "Clifford unitaries map Pauli strings to other Pauli strings under conjugation. In order to know how a specific Pauli string will transform, we can write it in terms of the generators $\\{X_1, \\ldots, X_n, Z_1, \\ldots, Z_n\\}$. A *tableau* encodes how each Pauli generator transforms under conjugation. Consider a CNOT gate controlled by qubit 1 and acting on qubit 2. We represent `CNOT` by the unitary $C_X = \\ket{0}\\bra{0} \\otimes I + \\ket{1}\\bra{1} \\otimes X$. We can represent the action of `CNOT` on each generator with a table:\n",
    "\n",
    "| $P$ | $C_X^\\dagger P C_X$ |\n",
    "| ----- | ----- |\n",
    "| $XI$ | $XX$ |\n",
    "| $ZI$ | $ZI$ |\n",
    "| $IX$ | $IX$ |\n",
    "| $IZ$ | $ZZ$ |\n",
    "\n",
    "A *tableau* is a representation of each conjugated generator. stim specifies a tableau in terms of four blocks: `x2x`, `x2z`, `z2x`, and `z2z`. Each represents the $X$ or $Z$ bits of a string after you conjugate an $X$ or $Z$ generator. For example, the `x2z` matrix gives the $Z$ bits of each conjugated $X$-type generator. For our `CNOT` tableau, the `x2x` matrix is\n",
    "\n",
    "$\\begin{bmatrix}\n",
    "    1 & 1 \\\\\n",
    "    0 & 1 \\\\\n",
    "\\end{bmatrix}$\n",
    "\n",
    "Note that each row now represents a generator, and each column represents a qubit."
   ]
  },
  {
   "cell_type": "code",
   "execution_count": null,
   "id": "6b8c3be6",
   "metadata": {},
   "outputs": [
    {
     "name": "stdout",
     "output_type": "stream",
     "text": [
      "+-xz-xz-\n",
      "| ++ ++\n",
      "| XZ _Z\n",
      "| X_ XZ\n"
     ]
    }
   ],
   "source": [
    "x2x = np.array([[1, 1], [0, 1]], dtype=np.bool_)\n",
    "x2z = np.array([[0, 0], [0, 0]], dtype=np.bool_)\n",
    "z2x = np.array([[0, 0], [0, 0]], dtype=np.bool_)\n",
    "z2z = np.array([[1, 0], [1, 1]], dtype=np.bool_)\n",
    "my_tableau = stim.Tableau.from_numpy(\n",
    "    x2x=x2x, x2z=x2z, z2x=z2x, z2z=z2z\n",
    ")\n",
    "cnot_tableau = stim.Tableau.from_named_gate(\"CNOT\")\n",
    "assert my_tableau == cnot_tableau"
   ]
  },
  {
   "cell_type": "markdown",
   "id": "9a71e8a8",
   "metadata": {},
   "source": [
    "We can do operations on tableaus. If a tableau represents some unitary $U$, then the inverse of the tableau represents $U^\\dagger$."
   ]
  },
  {
   "cell_type": "code",
   "execution_count": 47,
   "id": "dd862e02",
   "metadata": {},
   "outputs": [
    {
     "name": "stdout",
     "output_type": "stream",
     "text": [
      "+-xz-\n",
      "| ++\n",
      "| YZ\n",
      "+-xz-\n",
      "| -+\n",
      "| YZ\n"
     ]
    }
   ],
   "source": [
    "tableau = stim.Tableau.from_named_gate(\"S\")\n",
    "print(tableau)\n",
    "print(tableau.inverse())"
   ]
  },
  {
   "cell_type": "markdown",
   "id": "08cec9fa",
   "metadata": {},
   "source": [
    "We can also compose the transformations represented by two tableaus. If the tableaus represent unitaries $U$ and $V$, then composition returns a tableau representing $UV$."
   ]
  },
  {
   "cell_type": "code",
   "execution_count": 48,
   "id": "96a67b79",
   "metadata": {},
   "outputs": [
    {
     "name": "stdout",
     "output_type": "stream",
     "text": [
      "+-xz-\n",
      "| --\n",
      "| XZ\n"
     ]
    }
   ],
   "source": [
    "tab1 = stim.Tableau.from_named_gate(\"Z\")\n",
    "tab2 = stim.Tableau.from_named_gate(\"X\")\n",
    "print(tab1 * tab2)"
   ]
  },
  {
   "cell_type": "markdown",
   "id": "4de40321",
   "metadata": {},
   "source": [
    "A stim circuit is made up of a sequence of gates. We can add gates to a circuit by passing their names and target qubit(s) to the `Circuit.append` method."
   ]
  },
  {
   "cell_type": "code",
   "execution_count": 38,
   "id": "abf55814",
   "metadata": {},
   "outputs": [
    {
     "data": {
      "image/svg+xml": [
       "<svg viewBox=\"0 0 224 224\"  version=\"1.1\" xmlns=\"http://www.w3.org/2000/svg\">\n",
       "<g id=\"qubit_lines\">\n",
       "<path id=\"qubit_line:0\" d=\"M64,64 L192,64 \" stroke=\"black\"/>\n",
       "<text dominant-baseline=\"central\" text-anchor=\"end\" font-family=\"monospace\" font-size=\"12\" x=\"64\" y=\"64\">q0</text>\n",
       "<path id=\"qubit_line:1\" d=\"M64,128 L192,128 \" stroke=\"black\"/>\n",
       "<text dominant-baseline=\"central\" text-anchor=\"end\" font-family=\"monospace\" font-size=\"12\" x=\"64\" y=\"128\">q1</text>\n",
       "</g>\n",
       "<rect x=\"80\" y=\"48\" width=\"32\" height=\"32\" stroke=\"black\" fill=\"white\"/>\n",
       "<text dominant-baseline=\"central\" text-anchor=\"middle\" font-family=\"monospace\" font-size=\"30\" x=\"96\" y=\"64\">H</text>\n",
       "<path d=\"M160,64 L160,128 \" stroke=\"black\"/>\n",
       "<circle cx=\"160\" cy=\"64\" r=\"12\" stroke=\"none\" fill=\"black\"/>\n",
       "<circle cx=\"160\" cy=\"128\" r=\"12\" stroke=\"black\" fill=\"white\"/>\n",
       "<path d=\"M148,128 L172,128 M160,116 L160,140 \" stroke=\"black\"/>\n",
       "</svg>"
      ],
      "text/plain": [
       "<svg viewBox=\"0 0 224 224\"  version=\"1.1\" xmlns=\"http://www.w3.org/2000/svg\">\n",
       "<g id=\"qubit_lines\">\n",
       "<path id=\"qubit_line:0\" d=\"M64,64 L192,64 \" stroke=\"black\"/>\n",
       "<text dominant-baseline=\"central\" text-anchor=\"end\" font-family=\"monospace\" font-size=\"12\" x=\"64\" y=\"64\">q0</text>\n",
       "<path id=\"qubit_line:1\" d=\"M64,128 L192,128 \" stroke=\"black\"/>\n",
       "<text dominant-baseline=\"central\" text-anchor=\"end\" font-family=\"monospace\" font-size=\"12\" x=\"64\" y=\"128\">q1</text>\n",
       "</g>\n",
       "<rect x=\"80\" y=\"48\" width=\"32\" height=\"32\" stroke=\"black\" fill=\"white\"/>\n",
       "<text dominant-baseline=\"central\" text-anchor=\"middle\" font-family=\"monospace\" font-size=\"30\" x=\"96\" y=\"64\">H</text>\n",
       "<path d=\"M160,64 L160,128 \" stroke=\"black\"/>\n",
       "<circle cx=\"160\" cy=\"64\" r=\"12\" stroke=\"none\" fill=\"black\"/>\n",
       "<circle cx=\"160\" cy=\"128\" r=\"12\" stroke=\"black\" fill=\"white\"/>\n",
       "<path d=\"M148,128 L172,128 M160,116 L160,140 \" stroke=\"black\"/>\n",
       "</svg>"
      ]
     },
     "execution_count": 38,
     "metadata": {},
     "output_type": "execute_result"
    }
   ],
   "source": [
    "ckt = stim.Circuit()\n",
    "ckt.append(\"H\", 0)\n",
    "ckt.append(\"CNOT\", [0, 1])\n",
    "ckt.diagram('timeline-svg')"
   ]
  },
  {
   "cell_type": "markdown",
   "id": "b0960344",
   "metadata": {},
   "source": [
    "Every circuit also has a tableau representation."
   ]
  },
  {
   "cell_type": "code",
   "execution_count": 40,
   "id": "775e95af",
   "metadata": {},
   "outputs": [
    {
     "name": "stdout",
     "output_type": "stream",
     "text": [
      "+-xz-xz-\n",
      "| ++ ++\n",
      "| ZX _Z\n",
      "| _X XZ\n"
     ]
    }
   ],
   "source": [
    "tableau = ckt.to_tableau()\n",
    "print(tableau)"
   ]
  },
  {
   "cell_type": "markdown",
   "id": "b387fba0",
   "metadata": {},
   "source": [
    "Since they are Clifford unitaries (at least when there are no measurements), we can conjugate a Pauli string by a Clifford circuit. There are two ways to do this: the `after` and `before` methods of the Pauli string. `after` does the normal conjugation by $U$, and `before` does conjugation by $U^\\dagger$."
   ]
  },
  {
   "cell_type": "code",
   "execution_count": 44,
   "id": "cae7e3ed",
   "metadata": {},
   "outputs": [
    {
     "name": "stdout",
     "output_type": "stream",
     "text": [
      "+Z_\n",
      "+ZX\n"
     ]
    }
   ],
   "source": [
    "print(stim.PauliString(\"XI\").after(ckt))\n",
    "print(stim.PauliString(\"XI\").before(ckt))"
   ]
  },
  {
   "cell_type": "markdown",
   "id": "3075603e",
   "metadata": {},
   "source": [
    "When we add measurements to quantum circuit, we can sample measurement results."
   ]
  },
  {
   "cell_type": "code",
   "execution_count": 49,
   "id": "9555f086",
   "metadata": {},
   "outputs": [
    {
     "name": "stdout",
     "output_type": "stream",
     "text": [
      "[[ True  True]\n",
      " [ True  True]\n",
      " [ True  True]\n",
      " [ True  True]\n",
      " [ True  True]\n",
      " [False False]\n",
      " [False False]\n",
      " [ True  True]\n",
      " [False False]\n",
      " [ True  True]]\n"
     ]
    }
   ],
   "source": [
    "ckt = stim.Circuit()\n",
    "ckt.append(\"H\", 0)\n",
    "ckt.append(\"CNOT\", [0, 1])\n",
    "ckt.append(\"M\", [0, 1])\n",
    "sampler = ckt.compile_sampler()\n",
    "samples = sampler.sample(10)\n",
    "print(samples)"
   ]
  },
  {
   "cell_type": "markdown",
   "id": "ad78a0e5",
   "metadata": {},
   "source": [
    "## Simulating noise"
   ]
  },
  {
   "cell_type": "code",
   "execution_count": 57,
   "id": "6f39de17",
   "metadata": {},
   "outputs": [
    {
     "data": {
      "text/plain": [
       "(array([815.,   0.,   0.,   0.,   0.,   0.,   0.,   0.,   0., 185.]),\n",
       " array([0. , 0.1, 0.2, 0.3, 0.4, 0.5, 0.6, 0.7, 0.8, 0.9, 1. ]),\n",
       " <BarContainer object of 10 artists>)"
      ]
     },
     "execution_count": 57,
     "metadata": {},
     "output_type": "execute_result"
    },
    {
     "data": {
      "image/png": "[encoded data removed]",
      "text/plain": [
       "<Figure size 640x480 with 1 Axes>"
      ]
     },
     "metadata": {},
     "output_type": "display_data"
    }
   ],
   "source": [
    "ckt = stim.Circuit()\n",
    "ckt.append(\"X_ERROR\", 0, arg=0.2)\n",
    "ckt.append(\"M\", 0)\n",
    "sampler = ckt.compile_sampler()\n",
    "samples = sampler.sample(1_000)\n",
    "plt.hist(samples.astype(int))"
   ]
  },
  {
   "cell_type": "markdown",
   "id": "f92793d8",
   "metadata": {},
   "source": [
    "## Detector error models and logical observables"
   ]
  },
  {
   "cell_type": "markdown",
   "id": "cdcc9412",
   "metadata": {},
   "source": [
    "Here we will use a GHZ state as an example of detectors."
   ]
  },
  {
   "cell_type": "code",
   "execution_count": 63,
   "id": "c09d11ab",
   "metadata": {},
   "outputs": [
    {
     "ename": "TypeError",
     "evalue": "convert(): incompatible function arguments. The following argument types are supported:\n    1. (self: stim._stim_polyfill.CompiledMeasurementsToDetectionEventsConverter, *, measurements: object, sweep_bits: object = None, separate_observables: object = None, append_observables: object = None, bit_packed: bool = False, bit_pack_result: bool = False) -> object\n\nInvoked with: stim.CompiledMeasurementsToDetectionEventsConverter(stim.Circuit('''\n    H 0\n    CX 0 1\n    X_ERROR(0.1) 0 1\n    M 0 1\n    DETECTOR rec[-1] rec[-2]\n''')), array([[ True,  True],\n       [False, False],\n       [False, False],\n       [ True,  True],\n       [ True,  True],\n       [False, False],\n       [ True,  True],\n       [ True,  True],\n       [False, False],\n       [ True,  True]])",
     "output_type": "error",
     "traceback": [
      "\u001b[31m---------------------------------------------------------------------------\u001b[39m",
      "\u001b[31mTypeError\u001b[39m                                 Traceback (most recent call last)",
      "\u001b[36mCell\u001b[39m\u001b[36m \u001b[39m\u001b[32mIn[63]\u001b[39m\u001b[32m, line 19\u001b[39m\n\u001b[32m     17\u001b[39m m2d_converter = ckt.compile_m2d_converter()\n\u001b[32m     18\u001b[39m samples = sampler.sample(\u001b[32m10\u001b[39m)\n\u001b[32m---> \u001b[39m\u001b[32m19\u001b[39m detection_events = \u001b[43mm2d_converter\u001b[49m\u001b[43m.\u001b[49m\u001b[43mconvert\u001b[49m\u001b[43m(\u001b[49m\u001b[43msamples\u001b[49m\u001b[43m)\u001b[49m\n\u001b[32m     20\u001b[39m \u001b[38;5;28mprint\u001b[39m(samples)\n\u001b[32m     21\u001b[39m \u001b[38;5;28mprint\u001b[39m(detection_events)\n",
      "\u001b[31mTypeError\u001b[39m: convert(): incompatible function arguments. The following argument types are supported:\n    1. (self: stim._stim_polyfill.CompiledMeasurementsToDetectionEventsConverter, *, measurements: object, sweep_bits: object = None, separate_observables: object = None, append_observables: object = None, bit_packed: bool = False, bit_pack_result: bool = False) -> object\n\nInvoked with: stim.CompiledMeasurementsToDetectionEventsConverter(stim.Circuit('''\n    H 0\n    CX 0 1\n    X_ERROR(0.1) 0 1\n    M 0 1\n    DETECTOR rec[-1] rec[-2]\n''')), array([[ True,  True],\n       [False, False],\n       [False, False],\n       [ True,  True],\n       [ True,  True],\n       [False, False],\n       [ True,  True],\n       [ True,  True],\n       [False, False],\n       [ True,  True]])"
     ]
    }
   ],
   "source": [
    "n = 2\n",
    "p = 0.1\n",
    "ckt = stim.Circuit()\n",
    "ckt.append(\"H\", 0)\n",
    "targets = []\n",
    "for i in range(n - 1):\n",
    "    targets += [i, i+1]\n",
    "ckt.append(\"CNOT\", targets)\n",
    "ckt.append(\"X_ERROR\", list(range(n)), arg=p)\n",
    "ckt.append(\"M\", list(range(n)))\n",
    "detector_str = \"DETECTOR \"\n",
    "for i in range(n):\n",
    "    detector_str += f\"rec[{-i - 1}] \"\n",
    "ckt.append_from_stim_program_text(detector_str)\n",
    "\n",
    "sampler = ckt.compile_sampler()\n",
    "m2d_converter = ckt.compile_m2d_converter()\n",
    "samples = sampler.sample(10)\n",
    "detection_events = m2d_converter.convert(samples)\n",
    "print(samples)\n",
    "print(detection_events)"
   ]
  },
  {
   "cell_type": "code",
   "execution_count": null,
   "id": "a545be8a",
   "metadata": {},
   "outputs": [],
   "source": []
  }
 ],
 "metadata": {
  "kernelspec": {
   "display_name": "deqode",
   "language": "python",
   "name": "deqode"
  },
  "language_info": {
   "codemirror_mode": {
    "name": "ipython",
    "version": 3
   },
   "file_extension": ".py",
   "mimetype": "text/x-python",
   "name": "python",
   "nbconvert_exporter": "python",
   "pygments_lexer": "ipython3",
   "version": "3.12.11"
  }
 },
 "nbformat": 4,
 "nbformat_minor": 5
}
